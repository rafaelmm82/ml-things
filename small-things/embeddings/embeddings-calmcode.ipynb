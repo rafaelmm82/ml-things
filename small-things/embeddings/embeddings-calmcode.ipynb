{
  "nbformat": 4,
  "nbformat_minor": 0,
  "metadata": {
    "colab": {
      "provenance": [],
      "authorship_tag": "ABX9TyMrNPzpmv/mRylFOp0yd+XX",
      "include_colab_link": true
    },
    "kernelspec": {
      "name": "python3",
      "display_name": "Python 3"
    },
    "language_info": {
      "name": "python"
    }
  },
  "cells": [
    {
      "cell_type": "markdown",
      "metadata": {
        "id": "view-in-github",
        "colab_type": "text"
      },
      "source": [
        "<a href=\"https://colab.research.google.com/github/rafaelmm82/ml-things/blob/main/small-things/embeddings/embeddings-calmcode.ipynb\" target=\"_parent\"><img src=\"https://colab.research.google.com/assets/colab-badge.svg\" alt=\"Open In Colab\"/></a>"
      ]
    },
    {
      "cell_type": "markdown",
      "source": [
        "#Embeddings - Calmcode\n",
        "\n",
        "codes from Calmcode embeddings contents\n",
        "\n",
        "https://calmcode.io/embeddings/introduction.html"
      ],
      "metadata": {
        "id": "QikQu0jhsOdj"
      }
    },
    {
      "cell_type": "code",
      "source": [
        "# Download dataset\n",
        "!wget https://calmcode.io/datasets/headlines.zip"
      ],
      "metadata": {
        "id": "La5M7cfss5gf",
        "outputId": "61076f9c-3928-4a73-d165-e6ac7a6c8de5",
        "colab": {
          "base_uri": "https://localhost:8080/"
        }
      },
      "execution_count": 1,
      "outputs": [
        {
          "output_type": "stream",
          "name": "stdout",
          "text": [
            "--2023-08-04 16:20:57--  https://calmcode.io/datasets/headlines.zip\n",
            "Resolving calmcode.io (calmcode.io)... 104.17.186.66, 104.17.185.66, 2606:4700::6811:ba42, ...\n",
            "Connecting to calmcode.io (calmcode.io)|104.17.186.66|:443... connected.\n",
            "HTTP request sent, awaiting response... 200 OK\n",
            "Length: 1569647 (1.5M) [application/zip]\n",
            "Saving to: ‘headlines.zip’\n",
            "\n",
            "headlines.zip       100%[===================>]   1.50M  1.43MB/s    in 1.0s    \n",
            "\n",
            "2023-08-04 16:20:59 (1.43 MB/s) - ‘headlines.zip’ saved [1569647/1569647]\n",
            "\n"
          ]
        }
      ]
    },
    {
      "cell_type": "code",
      "execution_count": 2,
      "metadata": {
        "id": "6dUCo5i8rgVo"
      },
      "outputs": [],
      "source": [
        "import numpy as np\n",
        "import tensorflow as tf\n",
        "import pandas as pd\n",
        "import itertools as it"
      ]
    },
    {
      "cell_type": "code",
      "source": [
        "# Read data\n",
        "words = pd.read_csv('/content/headlines.zip').loc[lambda d: ~d['text'].isna()]['text'][:20_000]"
      ],
      "metadata": {
        "id": "yu3rwYRZtfE_"
      },
      "execution_count": 3,
      "outputs": []
    },
    {
      "cell_type": "code",
      "source": [
        "words.head()"
      ],
      "metadata": {
        "id": "B10PNje9t_w_",
        "outputId": "7c1feb5b-ca16-4992-f5d3-2efbfa91b8be",
        "colab": {
          "base_uri": "https://localhost:8080/"
        }
      },
      "execution_count": 4,
      "outputs": [
        {
          "output_type": "execute_result",
          "data": {
            "text/plain": [
              "0    aba decides against community broadcasting lic...\n",
              "1       act fire witnesses must be aware of defamation\n",
              "2       a g calls for infrastructure protection summit\n",
              "3             air nz staff in aust strike for pay rise\n",
              "4        air nz strike to affect australian travellers\n",
              "Name: text, dtype: object"
            ]
          },
          "metadata": {},
          "execution_count": 4
        }
      ]
    },
    {
      "cell_type": "code",
      "source": [
        "# defining sliding windows function\n",
        "\n",
        "def sliding_window(txt):\n",
        "  for i in range(len(txt) - 1):\n",
        "    txt = txt.replace(\" \", \"_\")\n",
        "    yield txt[i], txt[i + 1]\n"
      ],
      "metadata": {
        "id": "6I9xjgqktm4W"
      },
      "execution_count": 5,
      "outputs": []
    },
    {
      "cell_type": "code",
      "source": [
        "# Make sliding window\n",
        "\n",
        "window = list(it.chain(*[sliding_window(_) for _ in words]))\n",
        "mapping = {c: i for i, c in enumerate(pd.DataFrame(window)[0].unique())}"
      ],
      "metadata": {
        "id": "qunNG46VuTxw"
      },
      "execution_count": 6,
      "outputs": []
    },
    {
      "cell_type": "code",
      "source": [
        "# Training data\n",
        "integers_in = np.array([mapping[w[0]] for w in window])\n",
        "integers_out = np.array([mapping[w[1]] for w in window]).reshape(-1, 1)"
      ],
      "metadata": {
        "id": "QWxPeAYNwFki"
      },
      "execution_count": 7,
      "outputs": []
    },
    {
      "cell_type": "code",
      "source": [
        "from tensorflow.keras.layers import Embedding, Dense, Flatten\n",
        "from tensorflow.keras.models import Sequential\n",
        "import matplotlib.pyplot as plt"
      ],
      "metadata": {
        "id": "ttzaq102wZTF"
      },
      "execution_count": 18,
      "outputs": []
    },
    {
      "cell_type": "code",
      "source": [
        "num_letters = len(mapping)\n",
        "\n",
        "# this on is so we might grab the embeddings\n",
        "model_emb = Sequential()\n",
        "embedding = Embedding(num_letters, 2, input_length=1)\n",
        "model_emb.add(embedding)"
      ],
      "metadata": {
        "id": "L_UKApfzb6Z4"
      },
      "execution_count": 12,
      "outputs": []
    },
    {
      "cell_type": "code",
      "source": [
        "idx_to_calc = list(mapping.values())\n",
        "idx_to_calc = np.array([idx_to_calc]).T\n",
        "\n",
        "{v:k for k,v in mapping.items()}\n",
        "idx_to_calc = list(mapping.values())\n",
        "idx_to_calc = np.array([idx_to_calc]).T\n",
        "\n",
        "translator = {v:k for k,v in mapping.items()}\n",
        "# Generate the 2d embeddings on an untrained network\n",
        "preds = model_emb.predict(idx_to_calc)"
      ],
      "metadata": {
        "id": "HBlvEf3ldCy4",
        "outputId": "c50c3d03-50d6-4ee5-e3cd-5015992e8e73",
        "colab": {
          "base_uri": "https://localhost:8080/"
        }
      },
      "execution_count": 16,
      "outputs": [
        {
          "output_type": "stream",
          "name": "stdout",
          "text": [
            "2/2 [==============================] - 0s 5ms/step\n"
          ]
        }
      ]
    },
    {
      "cell_type": "code",
      "source": [
        "# Plot the 2d embeddings of each letter\n",
        "\n",
        "plt.scatter(preds[:, 0, 0], preds[:, 0, 1], alpha=0)\n",
        "for i, idx in enumerate(idx_to_calc):\n",
        "  plt.text(preds[i, 0, 0], preds[i, 0, 1], translator[idx[0]])\n",
        ""
      ],
      "metadata": {
        "id": "XjXrAGAgd5Qe",
        "outputId": "b584cee8-db3b-41e3-dc8f-e1fbe77e69cd",
        "colab": {
          "base_uri": "https://localhost:8080/",
          "height": 430
        }
      },
      "execution_count": 19,
      "outputs": [
        {
          "output_type": "display_data",
          "data": {
            "text/plain": [
              "<Figure size 640x480 with 1 Axes>"
            ],
            "image/png": "[encoded data removed]"
          },
          "metadata": {}
        }
      ]
    },
    {
      "cell_type": "code",
      "source": [
        "from tensorflow.keras.optimizers import Adam\n",
        "\n",
        "# this one is so we might learn the mapping\n",
        "\n",
        "model_pred = Sequential()\n",
        "model_pred.add(embedding)\n",
        "model_pred.add(Flatten())\n",
        "model_pred.add(Dense(num_letters, activation=\"softmax\"))\n",
        "\n",
        "adam = Adam(learning_rate=0.001, beta_1=0.9, beta_2=0.999, amsgrad=False)"
      ],
      "metadata": {
        "id": "lMCn1ZZAencP"
      },
      "execution_count": 20,
      "outputs": []
    },
    {
      "cell_type": "code",
      "source": [
        "model_pred.compile(adam, 'categorical_crossentropy', metrics=['accuracy'])"
      ],
      "metadata": {
        "id": "0Y64YDR6fIYC"
      },
      "execution_count": 21,
      "outputs": []
    },
    {
      "cell_type": "code",
      "source": [
        "from sklearn.preprocessing import OneHotEncoder\n",
        "\n",
        "to_predict = OneHotEncoder(sparse=False).fit_transform(integers_out)\n",
        "model_pred.fit(integers_in, to_predict, epochs=1, verbose=1)"
      ],
      "metadata": {
        "id": "IgAHNucNfOkq",
        "outputId": "0b72746c-804b-4943-e573-7bb18bb8c2fd",
        "colab": {
          "base_uri": "https://localhost:8080/"
        }
      },
      "execution_count": 22,
      "outputs": [
        {
          "output_type": "stream",
          "name": "stderr",
          "text": [
            "/usr/local/lib/python3.10/dist-packages/sklearn/preprocessing/_encoders.py:868: FutureWarning: `sparse` was renamed to `sparse_output` in version 1.2 and will be removed in 1.4. `sparse_output` is ignored unless you leave `sparse` to its default value.\n",
            "  warnings.warn(\n"
          ]
        },
        {
          "output_type": "stream",
          "name": "stdout",
          "text": [
            "23907/23907 [==============================] - 45s 2ms/step - loss: 2.7199 - accuracy: 0.1893\n"
          ]
        },
        {
          "output_type": "execute_result",
          "data": {
            "text/plain": [
              "<keras.callbacks.History at 0x78ddb1baa200>"
            ]
          },
          "metadata": {},
          "execution_count": 22
        }
      ]
    },
    {
      "cell_type": "code",
      "source": [
        "preds = model_emb.predict(idx_to_calc)\n",
        "plt.scatter(preds[:, 0, 0], preds[:, 0, 1], alpha=0)\n",
        "for i, idx in enumerate(idx_to_calc):\n",
        "    plt.text(preds[i, 0, 0], preds[i, 0, 1], translator[idx[0]])"
      ],
      "metadata": {
        "id": "NRy87MmMhAzC",
        "outputId": "ef2661a8-0481-431d-d2c7-35180e831b48",
        "colab": {
          "base_uri": "https://localhost:8080/",
          "height": 448
        }
      },
      "execution_count": 24,
      "outputs": [
        {
          "output_type": "stream",
          "name": "stdout",
          "text": [
            "2/2 [==============================] - 0s 3ms/step\n"
          ]
        },
        {
          "output_type": "display_data",
          "data": {
            "text/plain": [
              "<Figure size 640x480 with 1 Axes>"
            ],
            "image/png": "[encoded data removed]"
          },
          "metadata": {}
        }
      ]
    }
  ]
}